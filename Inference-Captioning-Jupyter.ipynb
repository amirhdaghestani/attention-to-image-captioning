{
 "cells": [
  {
   "cell_type": "markdown",
   "metadata": {},
   "source": [
    "# Captioning evaluator\n",
    "\n",
    "## Import libraries"
   ]
  },
  {
   "cell_type": "code",
   "execution_count": null,
   "metadata": {
    "scrolled": false
   },
   "outputs": [],
   "source": [
    "# Basic libraries\n",
    "import numpy as np\n",
    "import cv2\n",
    "import json\n",
    "import matplotlib.pyplot as plt\n",
    "\n",
    "# Keras basic libraries\n",
    "from keras import backend\n",
    "from keras import Model\n",
    "from keras.models import load_model\n",
    "from keras.preprocessing.text import Tokenizer\n",
    "from keras.applications import inception_resnet_v2"
   ]
  },
  {
   "cell_type": "markdown",
   "metadata": {},
   "source": [
    "## Define Input Parameters and Functions"
   ]
  },
  {
   "cell_type": "code",
   "execution_count": null,
   "metadata": {},
   "outputs": [],
   "source": [
    "# Defining parameters\n",
    "INPUT_WIDTH = 299\n",
    "INPUT_HEIGHT = 299\n",
    "INPUT_SIZE = ( INPUT_WIDTH, INPUT_HEIGHT )"
   ]
  },
  {
   "cell_type": "markdown",
   "metadata": {},
   "source": [
    "## Loading Model"
   ]
  },
  {
   "cell_type": "code",
   "execution_count": null,
   "metadata": {},
   "outputs": [],
   "source": [
    "MAX_SEQ_LEN = 50\n",
    "INPUT_WIDTH = 299\n",
    "INPUT_HEIGHT = 299\n",
    "INPUT_SIZE = ( INPUT_WIDTH, INPUT_HEIGHT )\n",
    "\n",
    "model_fe = load_model('model_inception_resnet_v2.h5')\n",
    "model = load_model('model_captioning_attention.h5')\n",
    "with open('/gdrive/My Drive/Final Project/tokenizer.pkl', 'rb') as f:\n",
    "  tokenizer = pickle.load(f)"
   ]
  },
  {
   "cell_type": "markdown",
   "metadata": {},
   "source": [
    "## Define Greedy and Beam Search Functions"
   ]
  },
  {
   "cell_type": "code",
   "execution_count": null,
   "metadata": {},
   "outputs": [],
   "source": [
    "# Greedy search\n",
    "def greedySearch(photo):\n",
    "    in_text = '<start>'\n",
    "    for i in range(MAX_SEQ_LEN):\n",
    "        sequence = [tokenizer.word_index[w] for w in in_text.split() if w in tokenizer.word_index]\n",
    "        sequence = pad_sequences([sequence], maxlen=MAX_SEQ_LEN)\n",
    "        yhat = model.predict([photo, sequence], verbose=0)\n",
    "        yhat = np.argmax(yhat)\n",
    "        word = tokenizer.index_word[yhat]\n",
    "        in_text += ' ' + word\n",
    "        if word == '<end>':\n",
    "            break\n",
    "    final = in_text.split()\n",
    "    final = final[1:-1]\n",
    "    final = ' '.join(final)\n",
    "    return final\n",
    "\n",
    "# Beam search\n",
    "def beam_search_predictions(image, beam_index = 3):\n",
    "    in_text = [tokenizer.word_index['<start>']]\n",
    "    \n",
    "    start_word = [[in_text, 0.0]]\n",
    "    \n",
    "    while len(start_word[0][0]) < MAX_SEQ_LEN:\n",
    "        temp = []\n",
    "        for s in start_word:\n",
    "            sequence = pad_sequences([s[0]], maxlen=MAX_SEQ_LEN, padding='post')\n",
    "            preds = model.predict([image, sequence], verbose=0)\n",
    "            \n",
    "            word_preds = np.argsort(preds[0])[-beam_index:]\n",
    "            \n",
    "            for w in word_preds:\n",
    "                next_cap, prob = s[0][:], s[1]\n",
    "                next_cap.append(w)\n",
    "                prob += preds[0][w]\n",
    "                temp.append([next_cap, prob])\n",
    "                    \n",
    "        start_word = temp\n",
    "\n",
    "        start_word = sorted(start_word, reverse=False, key=lambda l: l[1])\n",
    "\n",
    "        start_word = start_word[-beam_index:]\n",
    "    \n",
    "    start_word = start_word[-1][0]\n",
    "    intermediate_caption = [tokenizer.index_word[i] for i in start_word]\n",
    "\n",
    "    final_caption = []\n",
    "    \n",
    "    for i in intermediate_caption:\n",
    "        if i != '<end>':\n",
    "            final_caption.append(i)\n",
    "        else:\n",
    "            break\n",
    "    \n",
    "    final_caption = ' '.join(final_caption[1:])\n",
    "    return final_caption"
   ]
  },
  {
   "cell_type": "markdown",
   "metadata": {},
   "source": [
    "## Labeling Images"
   ]
  },
  {
   "cell_type": "code",
   "execution_count": null,
   "metadata": {},
   "outputs": [],
   "source": [
    "with open('image_captioning_info.json', 'r') as path:\n",
    "    json_image_info = json.load( path )\n",
    "\n",
    "caption_greedy = []\n",
    "caption_beam_3 = []\n",
    "caption_beam_5 = []\n",
    "caption_beam_7 = []\n",
    "\n",
    "for image_dict in json_image_info:\n",
    "    img = inception_resnet_v2.preprocess_input( cv2.resize( cv2.imread( image_dict['file_name'] ), INPUT_SIZE ) )\n",
    "    caption_greedy.append( greedySearch( model_fe.predict( img  ) ) )\n",
    "    caption_beam_3.append( beam_search_predictions( model_fe.predict( img  ) ) )\n",
    "    caption_beam_5.append( beam_search_predictions( model_fe.predict( img  ), 5 ) )\n",
    "    caption_beam_7.append( beam_search_predictions( model_fe.predict( img  ), 7 ) )"
   ]
  },
  {
   "cell_type": "markdown",
   "metadata": {},
   "source": [
    "## Saving Labels"
   ]
  },
  {
   "cell_type": "code",
   "execution_count": null,
   "metadata": {},
   "outputs": [],
   "source": [
    "import pickle\n",
    "\n",
    "with open('captions_greedy.pkl','wb') as f:\n",
    "    pickle.dump( caption_greedy, f )\n",
    "with open('captions_beam_3.pkl','wb') as f:\n",
    "    pickle.dump( caption_beam_3, f )\n",
    "with open('captions_beam_5.pkl','wb') as f:\n",
    "    pickle.dump( caption_beam_5, f )\n",
    "with open('captions_beam_7.pkl','wb') as f:\n",
    "    pickle.dump( caption_beam_7, f )"
   ]
  }
 ],
 "metadata": {
  "kernelspec": {
   "display_name": "Python 3",
   "language": "python",
   "name": "python3"
  },
  "language_info": {
   "codemirror_mode": {
    "name": "ipython",
    "version": 3
   },
   "file_extension": ".py",
   "mimetype": "text/x-python",
   "name": "python",
   "nbconvert_exporter": "python",
   "pygments_lexer": "ipython3",
   "version": "3.7.5"
  }
 },
 "nbformat": 4,
 "nbformat_minor": 2
}
